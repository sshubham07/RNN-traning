{
 "cells": [
  {
   "cell_type": "code",
   "execution_count": 76,
   "id": "bb0165fa",
   "metadata": {},
   "outputs": [],
   "source": [
    "import numpy as np\n",
    "import tensorflow as tf\n",
    "from tensorflow.keras.preprocessing import sequence\n",
    "from tensorflow.keras.models import load_model\n",
    "from tensorflow.keras.datasets import imdb"
   ]
  },
  {
   "cell_type": "code",
   "execution_count": 77,
   "id": "ca673e94",
   "metadata": {},
   "outputs": [],
   "source": [
    "## Load the imdb word_index\n",
    "word_index = imdb.get_word_index()\n",
    "reverse_word_index = {val:key for key,val in word_index.items()}"
   ]
  },
  {
   "cell_type": "code",
   "execution_count": 78,
   "id": "08e2b0de",
   "metadata": {},
   "outputs": [],
   "source": [
    "## Load our model\n",
    "model = load_model('simple_rnn_ibdb.h5')"
   ]
  },
  {
   "cell_type": "code",
   "execution_count": 79,
   "id": "897b16ed",
   "metadata": {},
   "outputs": [],
   "source": [
    "##Step 2: Helper Functions\n",
    "##Function to decode reviews\n",
    "def decode_review(encoded_review):\n",
    "    return ' '.join([reverse_word_index.get(i - 3, '?') for i in encoded_review])\n",
    "\n",
    "# Function to preprocess user input\n",
    "def preprocess_text(text):\n",
    "    words = text.lower().split()\n",
    "    encoded_review = [word_index.get(word, 2) + 3 for word in words]\n",
    "    padded_review = sequence.pad_sequences([encoded_review], maxlen=500)\n",
    "    return padded_review \n"
   ]
  },
  {
   "cell_type": "code",
   "execution_count": 80,
   "id": "1c0e9ea7",
   "metadata": {},
   "outputs": [],
   "source": [
    "### Prediction  function\n",
    "\n",
    "def predict_sentiment(review):\n",
    "    preprocessed_input=preprocess_text(review)\n",
    "\n",
    "    prediction=model.predict(preprocessed_input)\n",
    "\n",
    "    sentiment = 'Positive' if prediction[0][0] > 0.5 else 'Negative'\n",
    "    \n",
    "    return sentiment, prediction[0][0]\n",
    "\n"
   ]
  },
  {
   "cell_type": "code",
   "execution_count": 81,
   "id": "08203712",
   "metadata": {},
   "outputs": [
    {
     "ename": "InvalidArgumentError",
     "evalue": "Graph execution error:\n\nDetected at node sequential_1/embedding_1/embedding_lookup defined at (most recent call last):\n  File \"<frozen runpy>\", line 198, in _run_module_as_main\n\n  File \"<frozen runpy>\", line 88, in _run_code\n\n  File \"/Users/shubhamkumargupta/Desktop/RNN-traning/venv/lib/python3.11/site-packages/ipykernel_launcher.py\", line 18, in <module>\n\n  File \"/Users/shubhamkumargupta/Desktop/RNN-traning/venv/lib/python3.11/site-packages/traitlets/config/application.py\", line 1075, in launch_instance\n\n  File \"/Users/shubhamkumargupta/Desktop/RNN-traning/venv/lib/python3.11/site-packages/ipykernel/kernelapp.py\", line 739, in start\n\n  File \"/Users/shubhamkumargupta/Desktop/RNN-traning/venv/lib/python3.11/site-packages/tornado/platform/asyncio.py\", line 211, in start\n\n  File \"/Users/shubhamkumargupta/Desktop/RNN-traning/venv/lib/python3.11/asyncio/base_events.py\", line 608, in run_forever\n\n  File \"/Users/shubhamkumargupta/Desktop/RNN-traning/venv/lib/python3.11/asyncio/base_events.py\", line 1936, in _run_once\n\n  File \"/Users/shubhamkumargupta/Desktop/RNN-traning/venv/lib/python3.11/asyncio/events.py\", line 84, in _run\n\n  File \"/Users/shubhamkumargupta/Desktop/RNN-traning/venv/lib/python3.11/site-packages/ipykernel/kernelbase.py\", line 545, in dispatch_queue\n\n  File \"/Users/shubhamkumargupta/Desktop/RNN-traning/venv/lib/python3.11/site-packages/ipykernel/kernelbase.py\", line 534, in process_one\n\n  File \"/Users/shubhamkumargupta/Desktop/RNN-traning/venv/lib/python3.11/site-packages/ipykernel/kernelbase.py\", line 437, in dispatch_shell\n\n  File \"/Users/shubhamkumargupta/Desktop/RNN-traning/venv/lib/python3.11/site-packages/ipykernel/ipkernel.py\", line 362, in execute_request\n\n  File \"/Users/shubhamkumargupta/Desktop/RNN-traning/venv/lib/python3.11/site-packages/ipykernel/kernelbase.py\", line 778, in execute_request\n\n  File \"/Users/shubhamkumargupta/Desktop/RNN-traning/venv/lib/python3.11/site-packages/ipykernel/ipkernel.py\", line 449, in do_execute\n\n  File \"/Users/shubhamkumargupta/Desktop/RNN-traning/venv/lib/python3.11/site-packages/ipykernel/zmqshell.py\", line 549, in run_cell\n\n  File \"/Users/shubhamkumargupta/Desktop/RNN-traning/venv/lib/python3.11/site-packages/IPython/core/interactiveshell.py\", line 3100, in run_cell\n\n  File \"/Users/shubhamkumargupta/Desktop/RNN-traning/venv/lib/python3.11/site-packages/IPython/core/interactiveshell.py\", line 3155, in _run_cell\n\n  File \"/Users/shubhamkumargupta/Desktop/RNN-traning/venv/lib/python3.11/site-packages/IPython/core/async_helpers.py\", line 128, in _pseudo_sync_runner\n\n  File \"/Users/shubhamkumargupta/Desktop/RNN-traning/venv/lib/python3.11/site-packages/IPython/core/interactiveshell.py\", line 3367, in run_cell_async\n\n  File \"/Users/shubhamkumargupta/Desktop/RNN-traning/venv/lib/python3.11/site-packages/IPython/core/interactiveshell.py\", line 3612, in run_ast_nodes\n\n  File \"/Users/shubhamkumargupta/Desktop/RNN-traning/venv/lib/python3.11/site-packages/IPython/core/interactiveshell.py\", line 3672, in run_code\n\n  File \"/var/folders/b_/_cc_3qc10pb1mh22htmfz1m00000gn/T/ipykernel_1675/1045330184.py\", line 3, in <module>\n\n  File \"/var/folders/b_/_cc_3qc10pb1mh22htmfz1m00000gn/T/ipykernel_1675/3190686806.py\", line 6, in predict_sentiment\n\n  File \"/Users/shubhamkumargupta/Desktop/RNN-traning/venv/lib/python3.11/site-packages/keras/src/utils/traceback_utils.py\", line 65, in error_handler\n\n  File \"/Users/shubhamkumargupta/Desktop/RNN-traning/venv/lib/python3.11/site-packages/keras/src/engine/training.py\", line 2655, in predict\n\n  File \"/Users/shubhamkumargupta/Desktop/RNN-traning/venv/lib/python3.11/site-packages/keras/src/engine/training.py\", line 2440, in predict_function\n\n  File \"/Users/shubhamkumargupta/Desktop/RNN-traning/venv/lib/python3.11/site-packages/keras/src/engine/training.py\", line 2425, in step_function\n\n  File \"/Users/shubhamkumargupta/Desktop/RNN-traning/venv/lib/python3.11/site-packages/keras/src/engine/training.py\", line 2413, in run_step\n\n  File \"/Users/shubhamkumargupta/Desktop/RNN-traning/venv/lib/python3.11/site-packages/keras/src/engine/training.py\", line 2381, in predict_step\n\n  File \"/Users/shubhamkumargupta/Desktop/RNN-traning/venv/lib/python3.11/site-packages/keras/src/utils/traceback_utils.py\", line 65, in error_handler\n\n  File \"/Users/shubhamkumargupta/Desktop/RNN-traning/venv/lib/python3.11/site-packages/keras/src/engine/training.py\", line 590, in __call__\n\n  File \"/Users/shubhamkumargupta/Desktop/RNN-traning/venv/lib/python3.11/site-packages/keras/src/utils/traceback_utils.py\", line 65, in error_handler\n\n  File \"/Users/shubhamkumargupta/Desktop/RNN-traning/venv/lib/python3.11/site-packages/keras/src/engine/base_layer.py\", line 1149, in __call__\n\n  File \"/Users/shubhamkumargupta/Desktop/RNN-traning/venv/lib/python3.11/site-packages/keras/src/utils/traceback_utils.py\", line 96, in error_handler\n\n  File \"/Users/shubhamkumargupta/Desktop/RNN-traning/venv/lib/python3.11/site-packages/keras/src/engine/sequential.py\", line 398, in call\n\n  File \"/Users/shubhamkumargupta/Desktop/RNN-traning/venv/lib/python3.11/site-packages/keras/src/engine/functional.py\", line 515, in call\n\n  File \"/Users/shubhamkumargupta/Desktop/RNN-traning/venv/lib/python3.11/site-packages/keras/src/engine/functional.py\", line 672, in _run_internal_graph\n\n  File \"/Users/shubhamkumargupta/Desktop/RNN-traning/venv/lib/python3.11/site-packages/keras/src/utils/traceback_utils.py\", line 65, in error_handler\n\n  File \"/Users/shubhamkumargupta/Desktop/RNN-traning/venv/lib/python3.11/site-packages/keras/src/engine/base_layer.py\", line 1149, in __call__\n\n  File \"/Users/shubhamkumargupta/Desktop/RNN-traning/venv/lib/python3.11/site-packages/keras/src/utils/traceback_utils.py\", line 96, in error_handler\n\n  File \"/Users/shubhamkumargupta/Desktop/RNN-traning/venv/lib/python3.11/site-packages/keras/src/layers/core/embedding.py\", line 272, in call\n\nindices[0,489] = 11650 is not in [0, 10000)\n\t [[{{node sequential_1/embedding_1/embedding_lookup}}]] [Op:__inference_predict_function_4113]",
     "output_type": "error",
     "traceback": [
      "\u001b[31m---------------------------------------------------------------------------\u001b[39m",
      "\u001b[31mInvalidArgumentError\u001b[39m                      Traceback (most recent call last)",
      "\u001b[36mCell\u001b[39m\u001b[36m \u001b[39m\u001b[32mIn[81]\u001b[39m\u001b[32m, line 3\u001b[39m\n\u001b[32m      1\u001b[39m \u001b[38;5;66;03m# Predicting the op\u001b[39;00m\n\u001b[32m      2\u001b[39m example_review = \u001b[33m'\u001b[39m\u001b[33mA gripping masterpiece that flawlessly blends emotion, storytelling, and visuals into an unforgettable cinematic experience\u001b[39m\u001b[33m'\u001b[39m\n\u001b[32m----> \u001b[39m\u001b[32m3\u001b[39m sentiment, prediction = \u001b[43mpredict_sentiment\u001b[49m\u001b[43m(\u001b[49m\u001b[43mexample_review\u001b[49m\u001b[43m)\u001b[49m\n\u001b[32m      4\u001b[39m \u001b[38;5;28mprint\u001b[39m(sentiment,prediction)\n",
      "\u001b[36mCell\u001b[39m\u001b[36m \u001b[39m\u001b[32mIn[80]\u001b[39m\u001b[32m, line 6\u001b[39m, in \u001b[36mpredict_sentiment\u001b[39m\u001b[34m(review)\u001b[39m\n\u001b[32m      3\u001b[39m \u001b[38;5;28;01mdef\u001b[39;00m\u001b[38;5;250m \u001b[39m\u001b[34mpredict_sentiment\u001b[39m(review):\n\u001b[32m      4\u001b[39m     preprocessed_input=preprocess_text(review)\n\u001b[32m----> \u001b[39m\u001b[32m6\u001b[39m     prediction=\u001b[43mmodel\u001b[49m\u001b[43m.\u001b[49m\u001b[43mpredict\u001b[49m\u001b[43m(\u001b[49m\u001b[43mpreprocessed_input\u001b[49m\u001b[43m)\u001b[49m\n\u001b[32m      8\u001b[39m     sentiment = \u001b[33m'\u001b[39m\u001b[33mPositive\u001b[39m\u001b[33m'\u001b[39m \u001b[38;5;28;01mif\u001b[39;00m prediction[\u001b[32m0\u001b[39m][\u001b[32m0\u001b[39m] > \u001b[32m0.5\u001b[39m \u001b[38;5;28;01melse\u001b[39;00m \u001b[33m'\u001b[39m\u001b[33mNegative\u001b[39m\u001b[33m'\u001b[39m\n\u001b[32m     10\u001b[39m     \u001b[38;5;28;01mreturn\u001b[39;00m sentiment, prediction[\u001b[32m0\u001b[39m][\u001b[32m0\u001b[39m]\n",
      "\u001b[36mFile \u001b[39m\u001b[32m~/Desktop/RNN-traning/venv/lib/python3.11/site-packages/keras/src/utils/traceback_utils.py:70\u001b[39m, in \u001b[36mfilter_traceback.<locals>.error_handler\u001b[39m\u001b[34m(*args, **kwargs)\u001b[39m\n\u001b[32m     67\u001b[39m     filtered_tb = _process_traceback_frames(e.__traceback__)\n\u001b[32m     68\u001b[39m     \u001b[38;5;66;03m# To get the full stack trace, call:\u001b[39;00m\n\u001b[32m     69\u001b[39m     \u001b[38;5;66;03m# `tf.debugging.disable_traceback_filtering()`\u001b[39;00m\n\u001b[32m---> \u001b[39m\u001b[32m70\u001b[39m     \u001b[38;5;28;01mraise\u001b[39;00m e.with_traceback(filtered_tb) \u001b[38;5;28;01mfrom\u001b[39;00m\u001b[38;5;250m \u001b[39m\u001b[38;5;28;01mNone\u001b[39;00m\n\u001b[32m     71\u001b[39m \u001b[38;5;28;01mfinally\u001b[39;00m:\n\u001b[32m     72\u001b[39m     \u001b[38;5;28;01mdel\u001b[39;00m filtered_tb\n",
      "\u001b[36mFile \u001b[39m\u001b[32m~/Desktop/RNN-traning/venv/lib/python3.11/site-packages/tensorflow/python/eager/execute.py:53\u001b[39m, in \u001b[36mquick_execute\u001b[39m\u001b[34m(op_name, num_outputs, inputs, attrs, ctx, name)\u001b[39m\n\u001b[32m     51\u001b[39m \u001b[38;5;28;01mtry\u001b[39;00m:\n\u001b[32m     52\u001b[39m   ctx.ensure_initialized()\n\u001b[32m---> \u001b[39m\u001b[32m53\u001b[39m   tensors = pywrap_tfe.TFE_Py_Execute(ctx._handle, device_name, op_name,\n\u001b[32m     54\u001b[39m                                       inputs, attrs, num_outputs)\n\u001b[32m     55\u001b[39m \u001b[38;5;28;01mexcept\u001b[39;00m core._NotOkStatusException \u001b[38;5;28;01mas\u001b[39;00m e:\n\u001b[32m     56\u001b[39m   \u001b[38;5;28;01mif\u001b[39;00m name \u001b[38;5;129;01mis\u001b[39;00m \u001b[38;5;129;01mnot\u001b[39;00m \u001b[38;5;28;01mNone\u001b[39;00m:\n",
      "\u001b[31mInvalidArgumentError\u001b[39m: Graph execution error:\n\nDetected at node sequential_1/embedding_1/embedding_lookup defined at (most recent call last):\n  File \"<frozen runpy>\", line 198, in _run_module_as_main\n\n  File \"<frozen runpy>\", line 88, in _run_code\n\n  File \"/Users/shubhamkumargupta/Desktop/RNN-traning/venv/lib/python3.11/site-packages/ipykernel_launcher.py\", line 18, in <module>\n\n  File \"/Users/shubhamkumargupta/Desktop/RNN-traning/venv/lib/python3.11/site-packages/traitlets/config/application.py\", line 1075, in launch_instance\n\n  File \"/Users/shubhamkumargupta/Desktop/RNN-traning/venv/lib/python3.11/site-packages/ipykernel/kernelapp.py\", line 739, in start\n\n  File \"/Users/shubhamkumargupta/Desktop/RNN-traning/venv/lib/python3.11/site-packages/tornado/platform/asyncio.py\", line 211, in start\n\n  File \"/Users/shubhamkumargupta/Desktop/RNN-traning/venv/lib/python3.11/asyncio/base_events.py\", line 608, in run_forever\n\n  File \"/Users/shubhamkumargupta/Desktop/RNN-traning/venv/lib/python3.11/asyncio/base_events.py\", line 1936, in _run_once\n\n  File \"/Users/shubhamkumargupta/Desktop/RNN-traning/venv/lib/python3.11/asyncio/events.py\", line 84, in _run\n\n  File \"/Users/shubhamkumargupta/Desktop/RNN-traning/venv/lib/python3.11/site-packages/ipykernel/kernelbase.py\", line 545, in dispatch_queue\n\n  File \"/Users/shubhamkumargupta/Desktop/RNN-traning/venv/lib/python3.11/site-packages/ipykernel/kernelbase.py\", line 534, in process_one\n\n  File \"/Users/shubhamkumargupta/Desktop/RNN-traning/venv/lib/python3.11/site-packages/ipykernel/kernelbase.py\", line 437, in dispatch_shell\n\n  File \"/Users/shubhamkumargupta/Desktop/RNN-traning/venv/lib/python3.11/site-packages/ipykernel/ipkernel.py\", line 362, in execute_request\n\n  File \"/Users/shubhamkumargupta/Desktop/RNN-traning/venv/lib/python3.11/site-packages/ipykernel/kernelbase.py\", line 778, in execute_request\n\n  File \"/Users/shubhamkumargupta/Desktop/RNN-traning/venv/lib/python3.11/site-packages/ipykernel/ipkernel.py\", line 449, in do_execute\n\n  File \"/Users/shubhamkumargupta/Desktop/RNN-traning/venv/lib/python3.11/site-packages/ipykernel/zmqshell.py\", line 549, in run_cell\n\n  File \"/Users/shubhamkumargupta/Desktop/RNN-traning/venv/lib/python3.11/site-packages/IPython/core/interactiveshell.py\", line 3100, in run_cell\n\n  File \"/Users/shubhamkumargupta/Desktop/RNN-traning/venv/lib/python3.11/site-packages/IPython/core/interactiveshell.py\", line 3155, in _run_cell\n\n  File \"/Users/shubhamkumargupta/Desktop/RNN-traning/venv/lib/python3.11/site-packages/IPython/core/async_helpers.py\", line 128, in _pseudo_sync_runner\n\n  File \"/Users/shubhamkumargupta/Desktop/RNN-traning/venv/lib/python3.11/site-packages/IPython/core/interactiveshell.py\", line 3367, in run_cell_async\n\n  File \"/Users/shubhamkumargupta/Desktop/RNN-traning/venv/lib/python3.11/site-packages/IPython/core/interactiveshell.py\", line 3612, in run_ast_nodes\n\n  File \"/Users/shubhamkumargupta/Desktop/RNN-traning/venv/lib/python3.11/site-packages/IPython/core/interactiveshell.py\", line 3672, in run_code\n\n  File \"/var/folders/b_/_cc_3qc10pb1mh22htmfz1m00000gn/T/ipykernel_1675/1045330184.py\", line 3, in <module>\n\n  File \"/var/folders/b_/_cc_3qc10pb1mh22htmfz1m00000gn/T/ipykernel_1675/3190686806.py\", line 6, in predict_sentiment\n\n  File \"/Users/shubhamkumargupta/Desktop/RNN-traning/venv/lib/python3.11/site-packages/keras/src/utils/traceback_utils.py\", line 65, in error_handler\n\n  File \"/Users/shubhamkumargupta/Desktop/RNN-traning/venv/lib/python3.11/site-packages/keras/src/engine/training.py\", line 2655, in predict\n\n  File \"/Users/shubhamkumargupta/Desktop/RNN-traning/venv/lib/python3.11/site-packages/keras/src/engine/training.py\", line 2440, in predict_function\n\n  File \"/Users/shubhamkumargupta/Desktop/RNN-traning/venv/lib/python3.11/site-packages/keras/src/engine/training.py\", line 2425, in step_function\n\n  File \"/Users/shubhamkumargupta/Desktop/RNN-traning/venv/lib/python3.11/site-packages/keras/src/engine/training.py\", line 2413, in run_step\n\n  File \"/Users/shubhamkumargupta/Desktop/RNN-traning/venv/lib/python3.11/site-packages/keras/src/engine/training.py\", line 2381, in predict_step\n\n  File \"/Users/shubhamkumargupta/Desktop/RNN-traning/venv/lib/python3.11/site-packages/keras/src/utils/traceback_utils.py\", line 65, in error_handler\n\n  File \"/Users/shubhamkumargupta/Desktop/RNN-traning/venv/lib/python3.11/site-packages/keras/src/engine/training.py\", line 590, in __call__\n\n  File \"/Users/shubhamkumargupta/Desktop/RNN-traning/venv/lib/python3.11/site-packages/keras/src/utils/traceback_utils.py\", line 65, in error_handler\n\n  File \"/Users/shubhamkumargupta/Desktop/RNN-traning/venv/lib/python3.11/site-packages/keras/src/engine/base_layer.py\", line 1149, in __call__\n\n  File \"/Users/shubhamkumargupta/Desktop/RNN-traning/venv/lib/python3.11/site-packages/keras/src/utils/traceback_utils.py\", line 96, in error_handler\n\n  File \"/Users/shubhamkumargupta/Desktop/RNN-traning/venv/lib/python3.11/site-packages/keras/src/engine/sequential.py\", line 398, in call\n\n  File \"/Users/shubhamkumargupta/Desktop/RNN-traning/venv/lib/python3.11/site-packages/keras/src/engine/functional.py\", line 515, in call\n\n  File \"/Users/shubhamkumargupta/Desktop/RNN-traning/venv/lib/python3.11/site-packages/keras/src/engine/functional.py\", line 672, in _run_internal_graph\n\n  File \"/Users/shubhamkumargupta/Desktop/RNN-traning/venv/lib/python3.11/site-packages/keras/src/utils/traceback_utils.py\", line 65, in error_handler\n\n  File \"/Users/shubhamkumargupta/Desktop/RNN-traning/venv/lib/python3.11/site-packages/keras/src/engine/base_layer.py\", line 1149, in __call__\n\n  File \"/Users/shubhamkumargupta/Desktop/RNN-traning/venv/lib/python3.11/site-packages/keras/src/utils/traceback_utils.py\", line 96, in error_handler\n\n  File \"/Users/shubhamkumargupta/Desktop/RNN-traning/venv/lib/python3.11/site-packages/keras/src/layers/core/embedding.py\", line 272, in call\n\nindices[0,489] = 11650 is not in [0, 10000)\n\t [[{{node sequential_1/embedding_1/embedding_lookup}}]] [Op:__inference_predict_function_4113]"
     ]
    }
   ],
   "source": [
    "# Predicting the op\n",
    "example_review = 'A gripping masterpiece that flawlessly blends emotion, storytelling, and visuals into an unforgettable cinematic experience'\n",
    "sentiment, prediction = predict_sentiment(example_review)\n",
    "print(sentiment,prediction)"
   ]
  },
  {
   "cell_type": "code",
   "execution_count": null,
   "id": "b37576fc",
   "metadata": {},
   "outputs": [],
   "source": []
  }
 ],
 "metadata": {
  "kernelspec": {
   "display_name": "Python 3",
   "language": "python",
   "name": "python3"
  },
  "language_info": {
   "codemirror_mode": {
    "name": "ipython",
    "version": 3
   },
   "file_extension": ".py",
   "mimetype": "text/x-python",
   "name": "python",
   "nbconvert_exporter": "python",
   "pygments_lexer": "ipython3",
   "version": "3.11.13"
  }
 },
 "nbformat": 4,
 "nbformat_minor": 5
}
