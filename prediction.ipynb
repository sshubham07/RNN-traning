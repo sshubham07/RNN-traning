{
 "cells": [
  {
   "cell_type": "code",
   "execution_count": 16,
   "id": "bb0165fa",
   "metadata": {},
   "outputs": [],
   "source": [
    "import numpy as np\n",
    "import tensorflow as tf\n",
    "from tensorflow.keras.preprocessing import sequence\n",
    "from tensorflow.keras.models import load_model\n",
    "from tensorflow.keras.datasets import imdb"
   ]
  },
  {
   "cell_type": "code",
   "execution_count": 53,
   "id": "ca673e94",
   "metadata": {},
   "outputs": [],
   "source": [
    "## Load the imdb word_index\n",
    "word_index = imdb.get_word_index()\n",
    "reverse_word_index = {val:key for key,val in word_index.items()}"
   ]
  },
  {
   "cell_type": "code",
   "execution_count": 54,
   "id": "08e2b0de",
   "metadata": {},
   "outputs": [],
   "source": [
    "## Load our model\n",
    "model = load_model('imple_rnn_ibdb.h5')"
   ]
  },
  {
   "cell_type": "code",
   "execution_count": null,
   "id": "897b16ed",
   "metadata": {},
   "outputs": [],
   "source": [
    "##Step 2: Helper Functions\n",
    "##Function to decode reviews\n",
    "def decode_review(encoded_review):\n",
    "    return ' '.join([reverse_word_index.get(i - 3, '?') for i in encoded_review])\n",
    "\n",
    "# Function to preprocess user input\n",
    "def preprocess_text(text):\n",
    "    words = text.lower().split()\n",
    "    encoded_review = [word_index.get(word, 2) + 3 for word in words]\n",
    "    padded_review = sequence.pad_sequences([encoded_review], maxlen=500)\n",
    "    return padded_review \n",
    "\n",
    "# def preprocess_text(text):\n",
    "#     words = text.lower().split()\n",
    "#     encoded_review = []\n",
    "#     for word in words:\n",
    "#         idx = word_index.get(word, 2) + 3\n",
    "#         if idx >= 10000:\n",
    "#             idx = 2  # OOV token\n",
    "#         encoded_review.append(idx)\n",
    "#     padded_review = sequence.pad_sequences([encoded_review], maxlen=500)\n",
    "#     return padded_review\n"
   ]
  },
  {
   "cell_type": "code",
   "execution_count": 61,
   "id": "1c0e9ea7",
   "metadata": {},
   "outputs": [],
   "source": [
    "### Prediction  function\n",
    "\n",
    "def predict_sentiment(review):\n",
    "    preprocessed_input=preprocess_text(review)\n",
    "\n",
    "    prediction=model.predict(preprocessed_input)\n",
    "\n",
    "    sentiment = 'Positive' if prediction[0][0] > 0.5 else 'Negative'\n",
    "    \n",
    "    return sentiment, prediction[0][0]\n",
    "\n"
   ]
  },
  {
   "cell_type": "code",
   "execution_count": 62,
   "id": "08203712",
   "metadata": {},
   "outputs": [
    {
     "name": "stdout",
     "output_type": "stream",
     "text": [
      "1/1 [==============================] - 0s 16ms/step\n",
      "Negative nan\n"
     ]
    }
   ],
   "source": [
    "# Predicting the op\n",
    "example_review = 'A gripping masterpiece that flawlessly blends emotion, storytelling, and visuals into an unforgettable cinematic experience'\n",
    "sentiment, prediction = predict_sentiment(example_review)\n",
    "print(sentiment,prediction)"
   ]
  },
  {
   "cell_type": "code",
   "execution_count": null,
   "id": "b37576fc",
   "metadata": {},
   "outputs": [],
   "source": []
  }
 ],
 "metadata": {
  "kernelspec": {
   "display_name": "Python 3",
   "language": "python",
   "name": "python3"
  },
  "language_info": {
   "codemirror_mode": {
    "name": "ipython",
    "version": 3
   },
   "file_extension": ".py",
   "mimetype": "text/x-python",
   "name": "python",
   "nbconvert_exporter": "python",
   "pygments_lexer": "ipython3",
   "version": "3.11.13"
  }
 },
 "nbformat": 4,
 "nbformat_minor": 5
}
